{
  "nbformat": 4,
  "nbformat_minor": 0,
  "metadata": {
    "colab": {
      "provenance": []
    },
    "kernelspec": {
      "name": "python3",
      "display_name": "Python 3"
    },
    "language_info": {
      "name": "python"
    }
  },
  "cells": [
    {
      "cell_type": "code",
      "execution_count": 71,
      "metadata": {
        "id": "TP0jYGrgUuZg",
        "colab": {
          "base_uri": "https://localhost:8080/"
        },
        "outputId": "0dbbfa97-fa4c-4353-fed6-db8af33c08e1"
      },
      "outputs": [
        {
          "output_type": "stream",
          "name": "stdout",
          "text": [
            "^C\n"
          ]
        }
      ],
      "source": [
        "!apt-get install openjdk-8-jdk-headless -qq > /dev/null\n",
        "!wget -q http://archive.apache.org/dist/spark/spark-3.5.1/spark-3.5.1-bin-hadoop3.tgz\n",
        "!tar xf spark-3.5.1-bin-hadoop3.tgz"
      ]
    },
    {
      "cell_type": "code",
      "source": [
        "import os\n",
        "os.environ[\"JAVA_HOME\"] = \"/usr/lib/jvm/java-8-openjdk-amd64\"\n",
        "os.environ[\"SPARK_HOME\"] = \"/content/spark-3.5.1-bin-hadoop3\""
      ],
      "metadata": {
        "id": "d3oLE-j-GYEx"
      },
      "execution_count": 72,
      "outputs": []
    },
    {
      "cell_type": "code",
      "source": [
        "!pip install -q findspark\n",
        "import findspark\n",
        "findspark.init()"
      ],
      "metadata": {
        "id": "5bUpaHlNGYeH"
      },
      "execution_count": 73,
      "outputs": []
    },
    {
      "cell_type": "markdown",
      "source": [
        "Подготовка данных"
      ],
      "metadata": {
        "id": "CvWn666qGbUa"
      }
    },
    {
      "cell_type": "code",
      "source": [
        "from pyspark import SparkContext, SparkConf\n",
        "import pyspark.sql as sql\n",
        "from pyspark.sql import SparkSession\n",
        "from pyspark.sql.types import DoubleType\n",
        "from pyspark.sql.functions import udf, col, max, sum, countDistinct\n",
        "from pyspark.sql import functions as func\n"
      ],
      "metadata": {
        "id": "c1qseVcDGZSg"
      },
      "execution_count": 74,
      "outputs": []
    },
    {
      "cell_type": "code",
      "source": [
        "import os\n",
        "data_path = os.path.join(os.curdir, \"data\")\n",
        "trips_path = os.path.join(\"trips.csv\")\n",
        "stations_path = os.path.join(\"stations.csv\")"
      ],
      "metadata": {
        "id": "wB6775kXJCsR"
      },
      "execution_count": 75,
      "outputs": []
    },
    {
      "cell_type": "code",
      "source": [
        "spark = SparkSession.builder\\\n",
        "        .master(\"local[*]\")\\\n",
        "        .appName(\"LR1\")\\\n",
        "        .getOrCreate()"
      ],
      "metadata": {
        "id": "9yS6fvSpGkOG"
      },
      "execution_count": 76,
      "outputs": []
    },
    {
      "cell_type": "code",
      "source": [
        "trip_data = spark.read\\\n",
        ".option(\"header\", True)\\\n",
        ".option(\"inferSchema\", True)\\\n",
        ".option(\"timestampFormat\", 'M/d/y H:m')\\\n",
        ".csv(\"trips.csv\")\n",
        "\n",
        "trip_data.printSchema()"
      ],
      "metadata": {
        "colab": {
          "base_uri": "https://localhost:8080/"
        },
        "id": "UQ0Fo1f7Gl9J",
        "outputId": "3ac2bce2-dc03-46fd-83c4-d8b748f6853e"
      },
      "execution_count": 77,
      "outputs": [
        {
          "output_type": "stream",
          "name": "stdout",
          "text": [
            "root\n",
            " |-- id: integer (nullable = true)\n",
            " |-- duration: integer (nullable = true)\n",
            " |-- start_date: timestamp (nullable = true)\n",
            " |-- start_station_name: string (nullable = true)\n",
            " |-- start_station_id: integer (nullable = true)\n",
            " |-- end_date: timestamp (nullable = true)\n",
            " |-- end_station_name: string (nullable = true)\n",
            " |-- end_station_id: integer (nullable = true)\n",
            " |-- bike_id: integer (nullable = true)\n",
            " |-- subscription_type: string (nullable = true)\n",
            " |-- zip_code: string (nullable = true)\n",
            "\n"
          ]
        }
      ]
    },
    {
      "cell_type": "code",
      "source": [
        "station_data = spark.read\\\n",
        ".option(\"header\", True)\\\n",
        ".option(\"inferSchema\", True)\\\n",
        ".option(\"timestampFormat\", 'M/d/y H:m')\\\n",
        ".csv(\"stations.csv\")\n",
        "\n",
        "station_data.printSchema()"
      ],
      "metadata": {
        "colab": {
          "base_uri": "https://localhost:8080/"
        },
        "id": "PLNmM8AoGqdY",
        "outputId": "3cefaf88-8def-4158-9f16-0468c9c750cc"
      },
      "execution_count": 78,
      "outputs": [
        {
          "output_type": "stream",
          "name": "stdout",
          "text": [
            "root\n",
            " |-- id: integer (nullable = true)\n",
            " |-- name: string (nullable = true)\n",
            " |-- lat: double (nullable = true)\n",
            " |-- long: double (nullable = true)\n",
            " |-- dock_count: integer (nullable = true)\n",
            " |-- city: string (nullable = true)\n",
            " |-- installation_date: string (nullable = true)\n",
            "\n"
          ]
        }
      ]
    },
    {
      "cell_type": "markdown",
      "source": [
        "#1. Найти велосипед с максимальным временем пробега"
      ],
      "metadata": {
        "id": "n3SJO8gRKR8m"
      }
    },
    {
      "cell_type": "code",
      "source": [
        "#представляем как временную таблицу, чтобы работать с sql запросами\n",
        "trip_data.createOrReplaceTempView(\"trips\")\n",
        "\n",
        "result = spark.sql(\"\"\"\n",
        "    SELECT bike_id, SUM(duration) AS total_duration\n",
        "    FROM trips\n",
        "    GROUP BY bike_id\n",
        "    ORDER BY total_duration DESC\n",
        "    LIMIT 1\n",
        "\"\"\")\n",
        "\n",
        "# Получаем результат\n",
        "bike_max_duration = result.collect()[0]\n",
        "print(f\"Велосипед {bike_max_duration['bike_id']}. Максимальное время пробега = {bike_max_duration['total_duration']}\")"
      ],
      "metadata": {
        "colab": {
          "base_uri": "https://localhost:8080/"
        },
        "id": "3lwVxRsbKnZj",
        "outputId": "b0ec40ab-9550-4810-f5f4-04586265c4b7"
      },
      "execution_count": 79,
      "outputs": [
        {
          "output_type": "stream",
          "name": "stdout",
          "text": [
            "Велосипед 535. Максимальное время пробега = 18611693\n"
          ]
        }
      ]
    },
    {
      "cell_type": "markdown",
      "source": [
        "#2.Найти наибольшее геодезическое расстояние между станциями"
      ],
      "metadata": {
        "id": "c-1scSWIL-9V"
      }
    },
    {
      "cell_type": "code",
      "source": [
        "from math import sin, cos, sqrt, atan2, radians\n",
        "\n",
        "# Регистрируем DataFrame как временную таблицу\n",
        "station_data.createOrReplaceTempView(\"stations\")\n",
        "\n",
        "# Функция для вычисления геодезического расстояния\n",
        "def get_distance(lat_1, long_1, lat_2, long_2):\n",
        "    R = 6373.0  # Радиус Земли в километрах\n",
        "    lat_1 = radians(lat_1)\n",
        "    lat_2 = radians(lat_2)\n",
        "    long_1 = radians(long_1)\n",
        "    long_2 = radians(long_2)\n",
        "\n",
        "    dlong = long_2 - long_1\n",
        "    dlat = lat_2 - lat_1\n",
        "\n",
        "    a = sin(dlat / 2)**2 + cos(lat_1) * cos(lat_2) * sin(dlong / 2)**2\n",
        "    c = 2 * atan2(sqrt(a), sqrt(1 - a))\n",
        "    distance = R * c\n",
        "    return distance\n",
        "\n",
        "# Конвертация функции в pyspark.sql.functions.udf\n",
        "udf_get_distance = udf(get_distance, DoubleType())\n",
        "\n",
        "# Выполняем SQL-запрос для объединения станций в пары\n",
        "station_pairs = spark.sql(\"\"\"\n",
        "    SELECT\n",
        "        station1.id AS station_1_id,\n",
        "        station1.lat AS lat_1,\n",
        "        station1.long AS long_1,\n",
        "        station2.id AS station_2_id,\n",
        "        station2.lat AS lat_2,\n",
        "        station2.long AS long_2\n",
        "    FROM stations station1\n",
        "    CROSS JOIN stations station2\n",
        "    WHERE station1.id != station2.id\n",
        "\"\"\")\n",
        "\n",
        "# Применяем UDF для вычисления расстояния\n",
        "station_pairs_with_distance = station_pairs.withColumn(\n",
        "    \"distance\",\n",
        "    udf_get_distance(\n",
        "        col(\"lat_1\"),\n",
        "        col(\"long_1\"),\n",
        "        col(\"lat_2\"),\n",
        "        col(\"long_2\")\n",
        "    )\n",
        ")\n",
        "\n",
        "# Сортируем по убыванию и находим максимальное расстояние\n",
        "biggest_dist_stations = station_pairs_with_distance.orderBy(col(\"distance\"), ascending=False).first()\n",
        "\n",
        "print(f\"Наибольшее геодезическое расстояние = {biggest_dist_stations['distance']}, станции {biggest_dist_stations['station_1_id']} - {biggest_dist_stations['station_2_id']}\")"
      ],
      "metadata": {
        "colab": {
          "base_uri": "https://localhost:8080/"
        },
        "id": "-ojMjB_tL_-t",
        "outputId": "fbdd1b6e-67bd-41b1-e802-2fd875ff962a"
      },
      "execution_count": 80,
      "outputs": [
        {
          "output_type": "stream",
          "name": "stdout",
          "text": [
            "Наибольшее геодезическое расстояние = 69.9428256877473, станции 16 - 60\n"
          ]
        }
      ]
    },
    {
      "cell_type": "markdown",
      "source": [
        "# 3. Найти путь велосипеда с максимальным временем пробега через станции"
      ],
      "metadata": {
        "id": "QcAL9vTpOL1Q"
      }
    },
    {
      "cell_type": "code",
      "source": [
        "trip_data.createOrReplaceTempView(\"trips\")\n",
        "\n",
        "bike_max_trip = spark.sql(\"\"\"\n",
        "    SELECT bike_id, start_station_name, end_station_name, duration\n",
        "    FROM trips\n",
        "    ORDER BY duration DESC\n",
        "    LIMIT 1\n",
        "\"\"\").first()\n",
        "\n",
        "# Вывод пути\n",
        "if bike_max_trip:\n",
        "    print(f\"{bike_max_trip['start_station_name']} - {bike_max_trip['end_station_name']} за {bike_max_trip['duration']}\")"
      ],
      "metadata": {
        "colab": {
          "base_uri": "https://localhost:8080/"
        },
        "id": "mtSw0eaeOP_b",
        "outputId": "683eab81-cfb2-4954-8008-d0fd13425591"
      },
      "execution_count": 81,
      "outputs": [
        {
          "output_type": "stream",
          "name": "stdout",
          "text": [
            "South Van Ness at Market - 2nd at Folsom за 17270400\n"
          ]
        }
      ]
    },
    {
      "cell_type": "markdown",
      "source": [
        "# 4. Найти количество велосипедов в системе"
      ],
      "metadata": {
        "id": "9YR4q9zlPjcV"
      }
    },
    {
      "cell_type": "code",
      "source": [
        "trip_data.createOrReplaceTempView(\"trips\")\n",
        "\n",
        "bikes_count = spark.sql(\"\"\"\n",
        "    SELECT COUNT(DISTINCT bike_id) AS unique_bikes_count\n",
        "    FROM trips\n",
        "\"\"\").collect()[0][\"unique_bikes_count\"]\n",
        "\n",
        "# Вывод количества уникальных велосипедов\n",
        "print(f\"{bikes_count}\")"
      ],
      "metadata": {
        "colab": {
          "base_uri": "https://localhost:8080/"
        },
        "id": "lSXd9UCsPksG",
        "outputId": "5a4a5ecb-94ca-4cfe-bfb9-7ae256b6da2b"
      },
      "execution_count": 82,
      "outputs": [
        {
          "output_type": "stream",
          "name": "stdout",
          "text": [
            "700\n"
          ]
        }
      ]
    },
    {
      "cell_type": "markdown",
      "source": [
        "# 5. Найти пользователей потративших на поездки более 3 часов"
      ],
      "metadata": {
        "id": "ESqnZbraQP-K"
      }
    },
    {
      "cell_type": "code",
      "source": [
        "trip_data.createOrReplaceTempView(\"trips\")\n",
        "\n",
        "long_term_users = spark.sql(\"\"\"\n",
        "    SELECT zip_code\n",
        "    FROM trips\n",
        "    GROUP BY zip_code\n",
        "    HAVING SUM(duration) > 3 * 60 * 60\n",
        "\"\"\")\n",
        "\n",
        "# Выводим результат\n",
        "long_term_users.show()"
      ],
      "metadata": {
        "colab": {
          "base_uri": "https://localhost:8080/"
        },
        "id": "uIX7whTWQVSS",
        "outputId": "51e80332-77ec-4a69-f9d8-5a1a15e6894d"
      },
      "execution_count": 83,
      "outputs": [
        {
          "output_type": "stream",
          "name": "stdout",
          "text": [
            "+--------+\n",
            "|zip_code|\n",
            "+--------+\n",
            "|   94102|\n",
            "|   95134|\n",
            "|   84606|\n",
            "|   80305|\n",
            "|   60070|\n",
            "|   95519|\n",
            "|   43085|\n",
            "|   91910|\n",
            "|   77339|\n",
            "|   48063|\n",
            "|   85022|\n",
            "|    1090|\n",
            "|    2136|\n",
            "|   11722|\n",
            "|   95138|\n",
            "|   94610|\n",
            "|   94404|\n",
            "|   80301|\n",
            "|   91326|\n",
            "|   90742|\n",
            "+--------+\n",
            "only showing top 20 rows\n",
            "\n"
          ]
        }
      ]
    }
  ]
}